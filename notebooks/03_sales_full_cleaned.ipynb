{
 "cells": [
  {
   "cell_type": "code",
   "execution_count": 3,
   "id": "98e3746b",
   "metadata": {},
   "outputs": [
    {
     "data": {
      "text/plain": [
       "'../data/clean/sales_full_cleaned.csv'"
      ]
     },
     "execution_count": 3,
     "metadata": {},
     "output_type": "execute_result"
    }
   ],
   "source": [
    "import pandas as pd\n",
    "import numpy as np\n",
    "import os\n",
    "\n",
    "# Load original sales_full file\n",
    "\n",
    "# Load cleaned data\n",
    "eda_data_path = \"../data/clean\"\n",
    "sales_full = pd.read_csv(os.path.join(eda_data_path, \"sales_full.csv\"))\n",
    "\n",
    "# Clean datetime columns\n",
    "sales_full['Order Date'] = pd.to_datetime(sales_full['Order Date'], errors='coerce').dt.strftime('%Y-%m-%d %H:%M:%S')\n",
    "sales_full['Delivery Date'] = pd.to_datetime(sales_full['Delivery Date'], errors='coerce').dt.strftime('%Y-%m-%d %H:%M:%S')\n",
    "\n",
    "# Convert DeliveryMissing to string\n",
    "sales_full['DeliveryMissing'] = sales_full['DeliveryMissing'].astype(str)\n",
    "\n",
    "# Export cleaned CSV\n",
    "cleaned_path = '../data/clean/sales_full_cleaned.csv'\n",
    "sales_full.to_csv(cleaned_path, index=False, encoding='utf-8')\n",
    "\n",
    "cleaned_path"
   ]
  }
 ],
 "metadata": {
  "kernelspec": {
   "display_name": "Python 3",
   "language": "python",
   "name": "python3"
  },
  "language_info": {
   "codemirror_mode": {
    "name": "ipython",
    "version": 3
   },
   "file_extension": ".py",
   "mimetype": "text/x-python",
   "name": "python",
   "nbconvert_exporter": "python",
   "pygments_lexer": "ipython3",
   "version": "3.13.3"
  }
 },
 "nbformat": 4,
 "nbformat_minor": 5
}
