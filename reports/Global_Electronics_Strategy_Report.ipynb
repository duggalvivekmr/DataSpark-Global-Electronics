{
 "cells": [
  {
   "cell_type": "markdown",
   "id": "8b23e946",
   "metadata": {},
   "source": [
    "## 🎯 Marketing Strategy Optimization\n",
    "**Insight:** Sales and customer data show concentration in specific product lines (e.g., desktop PCs) and regions (e.g., Victoria, South Australia), with a majority of customers aged 30–60.\n",
    "\n",
    "**Recommendation:**\n",
    "- Launch geo-targeted campaigns in top-performing states using demographic-specific messaging.\n",
    "- Personalize offers based on age/gender segments to improve engagement.\n",
    "- Retarget loyal, high-spending customers for upselling and loyalty programs.\n",
    "\n",
    "## 📦 Inventory Management Optimization\n",
    "**Insight:** Sales trends show a few products driving a large share of revenue, while many others underperform. Seasonality is visible in monthly sales peaks.\n",
    "\n",
    "**Recommendation:**\n",
    "- Focus inventory planning on best-selling SKUs in 'Computers' and 'Audio'.\n",
    "- De-stock slow-moving items through clearance or bundling.\n",
    "- Adjust inventory levels to align with seasonal demand peaks.\n",
    "\n",
    "## 📈 Sales Forecasting Support\n",
    "**Insight:** Sales are skewed and seasonal; stores and currencies vary in revenue contribution.\n",
    "\n",
    "**Recommendation:**\n",
    "- Use separate forecasting models per product category and region.\n",
    "- Integrate time series models to factor in seasonal trends.\n",
    "- Monitor high-value orders to reduce distortion in forecasts.\n",
    "\n",
    "## 🌍 International Pricing Strategy\n",
    "**Insight:** Multiple currencies used; USD dominates but others show variability.\n",
    "\n",
    "**Recommendation:**\n",
    "- Implement dynamic pricing models based on exchange rates.\n",
    "- Offer geo-specific promotions based on local purchasing power.\n",
    "- Normalize revenue for global performance comparison.\n",
    "\n",
    "## 🏬 Store Expansion & Optimization\n",
    "**Insight:** Sales do not strongly correlate with store size; some states outperform others.\n",
    "\n",
    "**Recommendation:**\n",
    "- Expand into top-performing states, not necessarily based on store size.\n",
    "- Focus on medium-sized stores with high operational efficiency.\n",
    "- Monitor store-level KPIs beyond square meters and age.\n",
    "\n",
    "## ✅ Summary Focus Areas\n",
    "\n",
    "| Area                | Strategic Action                                           |\n",
    "|---------------------|------------------------------------------------------------|\n",
    "| 🎯 Marketing         | Segment campaigns by top states, age, and loyalty         |\n",
    "| 📦 Inventory         | Prioritize bestsellers, reduce dead stock                 |\n",
    "| 📈 Forecasting       | Model by region and category with seasonality in mind     |\n",
    "| 🌍 Pricing Strategy  | Localized pricing and reporting using exchange rate data  |\n",
    "| 🏬 Store Expansion   | Expand where performance is strongest, not largest size   |\n"
   ]
  },
  {
   "cell_type": "markdown",
   "id": "bde322af",
   "metadata": {},
   "source": []
  }
 ],
 "metadata": {
  "language_info": {
   "name": "python"
  }
 },
 "nbformat": 4,
 "nbformat_minor": 5
}
